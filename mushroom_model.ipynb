{
  "nbformat": 4,
  "nbformat_minor": 0,
  "metadata": {
    "colab": {
      "name": "mushroom-model.ipynb",
      "provenance": [],
      "collapsed_sections": [],
      "mount_file_id": "13axi8H7xjXAapJI79GY3544OHBgTKymn",
      "authorship_tag": "ABX9TyNAivrmAC6Er9gWWkANOYeN",
      "include_colab_link": true
    },
    "kernelspec": {
      "name": "python3",
      "display_name": "Python 3"
    }
  },
  "cells": [
    {
      "cell_type": "markdown",
      "metadata": {
        "id": "view-in-github",
        "colab_type": "text"
      },
      "source": [
        "<a href=\"https://colab.research.google.com/github/DunkleCat/IA-challenge-prova-1/blob/master/mushroom_model.ipynb\" target=\"_parent\"><img src=\"https://colab.research.google.com/assets/colab-badge.svg\" alt=\"Open In Colab\"/></a>"
      ]
    },
    {
      "cell_type": "markdown",
      "metadata": {
        "id": "qOkWx1CUucYl",
        "colab_type": "text"
      },
      "source": [
        "# Librerie"
      ]
    },
    {
      "cell_type": "code",
      "metadata": {
        "id": "FOYRCVofujPu",
        "colab_type": "code",
        "colab": {}
      },
      "source": [
        "import numpy as np\n",
        "import pandas as pd\n",
        "import tensorflow as tf\n",
        "\n",
        "from tensorflow import feature_column\n",
        "from tensorflow.keras import layers\n",
        "from sklearn.model_selection import train_test_split\n",
        "\n",
        "# Rende i numeri a virgola mobile più leggibili\n",
        "np.set_printoptions(precision=3, suppress=True)"
      ],
      "execution_count": 0,
      "outputs": []
    },
    {
      "cell_type": "markdown",
      "metadata": {
        "id": "7UGYkgb8u1Ey",
        "colab_type": "text"
      },
      "source": [
        "# Dataframe"
      ]
    },
    {
      "cell_type": "markdown",
      "metadata": {
        "id": "Fon2hWUTf5-b",
        "colab_type": "text"
      },
      "source": [
        "## Download del dataset"
      ]
    },
    {
      "cell_type": "code",
      "metadata": {
        "id": "eubdAJntf8bU",
        "colab_type": "code",
        "colab": {}
      },
      "source": [
        "csv_file = \"/content/drive/My Drive/datasets/mushroom_data_all.csv\"\n",
        "dataframe = pd.read_csv(csv_file)\n",
        "target_label = \"class_edible\""
      ],
      "execution_count": 0,
      "outputs": []
    },
    {
      "cell_type": "markdown",
      "metadata": {
        "id": "Uala2iegf_zm",
        "colab_type": "text"
      },
      "source": [
        "## Vista generica del dataset"
      ]
    },
    {
      "cell_type": "code",
      "metadata": {
        "id": "R6m5TpXCgF5C",
        "colab_type": "code",
        "colab": {
          "base_uri": "https://localhost:8080/",
          "height": 238
        },
        "outputId": "94171962-8cd6-4563-fcdc-fe803bb87ecd"
      },
      "source": [
        "dataframe.head()"
      ],
      "execution_count": 3,
      "outputs": [
        {
          "output_type": "execute_result",
          "data": {
            "text/html": [
              "<div>\n",
              "<style scoped>\n",
              "    .dataframe tbody tr th:only-of-type {\n",
              "        vertical-align: middle;\n",
              "    }\n",
              "\n",
              "    .dataframe tbody tr th {\n",
              "        vertical-align: top;\n",
              "    }\n",
              "\n",
              "    .dataframe thead th {\n",
              "        text-align: right;\n",
              "    }\n",
              "</style>\n",
              "<table border=\"1\" class=\"dataframe\">\n",
              "  <thead>\n",
              "    <tr style=\"text-align: right;\">\n",
              "      <th></th>\n",
              "      <th>class_edible</th>\n",
              "      <th>cap-shape</th>\n",
              "      <th>cap-surface</th>\n",
              "      <th>cap-color</th>\n",
              "      <th>bruises</th>\n",
              "      <th>odor</th>\n",
              "      <th>gill-attachment</th>\n",
              "      <th>gill-spacing</th>\n",
              "      <th>gill-size</th>\n",
              "      <th>gill-color</th>\n",
              "      <th>stalk-shape</th>\n",
              "      <th>stalk-root</th>\n",
              "      <th>stalk-surface-above-ring</th>\n",
              "      <th>stalk-surface-below-ring</th>\n",
              "      <th>stalk-color-above-ring</th>\n",
              "      <th>stalk-color-below-ring</th>\n",
              "      <th>veil-type</th>\n",
              "      <th>veil-color</th>\n",
              "      <th>ring-number</th>\n",
              "      <th>ring-type</th>\n",
              "      <th>spore-print-color</th>\n",
              "      <th>population</th>\n",
              "      <th>habitat</th>\n",
              "    </tr>\n",
              "  </thead>\n",
              "  <tbody>\n",
              "    <tr>\n",
              "      <th>0</th>\n",
              "      <td>p</td>\n",
              "      <td>x</td>\n",
              "      <td>s</td>\n",
              "      <td>n</td>\n",
              "      <td>t</td>\n",
              "      <td>p</td>\n",
              "      <td>f</td>\n",
              "      <td>c</td>\n",
              "      <td>n</td>\n",
              "      <td>k</td>\n",
              "      <td>e</td>\n",
              "      <td>e</td>\n",
              "      <td>s</td>\n",
              "      <td>s</td>\n",
              "      <td>w</td>\n",
              "      <td>w</td>\n",
              "      <td>p</td>\n",
              "      <td>w</td>\n",
              "      <td>o</td>\n",
              "      <td>p</td>\n",
              "      <td>k</td>\n",
              "      <td>s</td>\n",
              "      <td>u</td>\n",
              "    </tr>\n",
              "    <tr>\n",
              "      <th>1</th>\n",
              "      <td>e</td>\n",
              "      <td>x</td>\n",
              "      <td>s</td>\n",
              "      <td>y</td>\n",
              "      <td>t</td>\n",
              "      <td>a</td>\n",
              "      <td>f</td>\n",
              "      <td>c</td>\n",
              "      <td>b</td>\n",
              "      <td>k</td>\n",
              "      <td>e</td>\n",
              "      <td>c</td>\n",
              "      <td>s</td>\n",
              "      <td>s</td>\n",
              "      <td>w</td>\n",
              "      <td>w</td>\n",
              "      <td>p</td>\n",
              "      <td>w</td>\n",
              "      <td>o</td>\n",
              "      <td>p</td>\n",
              "      <td>n</td>\n",
              "      <td>n</td>\n",
              "      <td>g</td>\n",
              "    </tr>\n",
              "    <tr>\n",
              "      <th>2</th>\n",
              "      <td>e</td>\n",
              "      <td>b</td>\n",
              "      <td>s</td>\n",
              "      <td>w</td>\n",
              "      <td>t</td>\n",
              "      <td>l</td>\n",
              "      <td>f</td>\n",
              "      <td>c</td>\n",
              "      <td>b</td>\n",
              "      <td>n</td>\n",
              "      <td>e</td>\n",
              "      <td>c</td>\n",
              "      <td>s</td>\n",
              "      <td>s</td>\n",
              "      <td>w</td>\n",
              "      <td>w</td>\n",
              "      <td>p</td>\n",
              "      <td>w</td>\n",
              "      <td>o</td>\n",
              "      <td>p</td>\n",
              "      <td>n</td>\n",
              "      <td>n</td>\n",
              "      <td>m</td>\n",
              "    </tr>\n",
              "    <tr>\n",
              "      <th>3</th>\n",
              "      <td>p</td>\n",
              "      <td>x</td>\n",
              "      <td>y</td>\n",
              "      <td>w</td>\n",
              "      <td>t</td>\n",
              "      <td>p</td>\n",
              "      <td>f</td>\n",
              "      <td>c</td>\n",
              "      <td>n</td>\n",
              "      <td>n</td>\n",
              "      <td>e</td>\n",
              "      <td>e</td>\n",
              "      <td>s</td>\n",
              "      <td>s</td>\n",
              "      <td>w</td>\n",
              "      <td>w</td>\n",
              "      <td>p</td>\n",
              "      <td>w</td>\n",
              "      <td>o</td>\n",
              "      <td>p</td>\n",
              "      <td>k</td>\n",
              "      <td>s</td>\n",
              "      <td>u</td>\n",
              "    </tr>\n",
              "    <tr>\n",
              "      <th>4</th>\n",
              "      <td>e</td>\n",
              "      <td>x</td>\n",
              "      <td>s</td>\n",
              "      <td>g</td>\n",
              "      <td>f</td>\n",
              "      <td>n</td>\n",
              "      <td>f</td>\n",
              "      <td>w</td>\n",
              "      <td>b</td>\n",
              "      <td>k</td>\n",
              "      <td>t</td>\n",
              "      <td>e</td>\n",
              "      <td>s</td>\n",
              "      <td>s</td>\n",
              "      <td>w</td>\n",
              "      <td>w</td>\n",
              "      <td>p</td>\n",
              "      <td>w</td>\n",
              "      <td>o</td>\n",
              "      <td>e</td>\n",
              "      <td>n</td>\n",
              "      <td>a</td>\n",
              "      <td>g</td>\n",
              "    </tr>\n",
              "  </tbody>\n",
              "</table>\n",
              "</div>"
            ],
            "text/plain": [
              "  class_edible cap-shape cap-surface  ... spore-print-color population habitat\n",
              "0            p         x           s  ...                 k          s       u\n",
              "1            e         x           s  ...                 n          n       g\n",
              "2            e         b           s  ...                 n          n       m\n",
              "3            p         x           y  ...                 k          s       u\n",
              "4            e         x           s  ...                 n          a       g\n",
              "\n",
              "[5 rows x 23 columns]"
            ]
          },
          "metadata": {
            "tags": []
          },
          "execution_count": 3
        }
      ]
    },
    {
      "cell_type": "markdown",
      "metadata": {
        "id": "LImIgnc9gZ0r",
        "colab_type": "text"
      },
      "source": [
        "## Ottimizzazione del dataset\n",
        "\n",
        "La rete neurale lavora sfruttando i numeri e non le stringhe. Per questo motivo conviene trasformare ogni colonna che contiene degli identificatori scritti come carattere (in questo caso tutti) in numeri interi che rappresentino la classe corrispondente. "
      ]
    },
    {
      "cell_type": "code",
      "metadata": {
        "id": "kG51n1MTu8KH",
        "colab_type": "code",
        "cellView": "both",
        "colab": {}
      },
      "source": [
        "for elem in dataframe:\n",
        "  dataframe[elem] = pd.Categorical(dataframe[elem])\n",
        "  dataframe[elem] = getattr(dataframe, elem).cat.codes"
      ],
      "execution_count": 0,
      "outputs": []
    },
    {
      "cell_type": "markdown",
      "metadata": {
        "id": "GcZxX3F3g0-Z",
        "colab_type": "text"
      },
      "source": [
        "## Dataset post-ottimizzazione"
      ]
    },
    {
      "cell_type": "code",
      "metadata": {
        "id": "Ts23AFdRg3vw",
        "colab_type": "code",
        "colab": {
          "base_uri": "https://localhost:8080/",
          "height": 238
        },
        "outputId": "01df0932-64bb-4797-c0f7-76fe1769e357"
      },
      "source": [
        "dataframe.head()"
      ],
      "execution_count": 5,
      "outputs": [
        {
          "output_type": "execute_result",
          "data": {
            "text/html": [
              "<div>\n",
              "<style scoped>\n",
              "    .dataframe tbody tr th:only-of-type {\n",
              "        vertical-align: middle;\n",
              "    }\n",
              "\n",
              "    .dataframe tbody tr th {\n",
              "        vertical-align: top;\n",
              "    }\n",
              "\n",
              "    .dataframe thead th {\n",
              "        text-align: right;\n",
              "    }\n",
              "</style>\n",
              "<table border=\"1\" class=\"dataframe\">\n",
              "  <thead>\n",
              "    <tr style=\"text-align: right;\">\n",
              "      <th></th>\n",
              "      <th>class_edible</th>\n",
              "      <th>cap-shape</th>\n",
              "      <th>cap-surface</th>\n",
              "      <th>cap-color</th>\n",
              "      <th>bruises</th>\n",
              "      <th>odor</th>\n",
              "      <th>gill-attachment</th>\n",
              "      <th>gill-spacing</th>\n",
              "      <th>gill-size</th>\n",
              "      <th>gill-color</th>\n",
              "      <th>stalk-shape</th>\n",
              "      <th>stalk-root</th>\n",
              "      <th>stalk-surface-above-ring</th>\n",
              "      <th>stalk-surface-below-ring</th>\n",
              "      <th>stalk-color-above-ring</th>\n",
              "      <th>stalk-color-below-ring</th>\n",
              "      <th>veil-type</th>\n",
              "      <th>veil-color</th>\n",
              "      <th>ring-number</th>\n",
              "      <th>ring-type</th>\n",
              "      <th>spore-print-color</th>\n",
              "      <th>population</th>\n",
              "      <th>habitat</th>\n",
              "    </tr>\n",
              "  </thead>\n",
              "  <tbody>\n",
              "    <tr>\n",
              "      <th>0</th>\n",
              "      <td>1</td>\n",
              "      <td>5</td>\n",
              "      <td>2</td>\n",
              "      <td>4</td>\n",
              "      <td>1</td>\n",
              "      <td>6</td>\n",
              "      <td>1</td>\n",
              "      <td>0</td>\n",
              "      <td>1</td>\n",
              "      <td>4</td>\n",
              "      <td>0</td>\n",
              "      <td>3</td>\n",
              "      <td>2</td>\n",
              "      <td>2</td>\n",
              "      <td>7</td>\n",
              "      <td>7</td>\n",
              "      <td>0</td>\n",
              "      <td>2</td>\n",
              "      <td>1</td>\n",
              "      <td>4</td>\n",
              "      <td>2</td>\n",
              "      <td>3</td>\n",
              "      <td>5</td>\n",
              "    </tr>\n",
              "    <tr>\n",
              "      <th>1</th>\n",
              "      <td>0</td>\n",
              "      <td>5</td>\n",
              "      <td>2</td>\n",
              "      <td>9</td>\n",
              "      <td>1</td>\n",
              "      <td>0</td>\n",
              "      <td>1</td>\n",
              "      <td>0</td>\n",
              "      <td>0</td>\n",
              "      <td>4</td>\n",
              "      <td>0</td>\n",
              "      <td>2</td>\n",
              "      <td>2</td>\n",
              "      <td>2</td>\n",
              "      <td>7</td>\n",
              "      <td>7</td>\n",
              "      <td>0</td>\n",
              "      <td>2</td>\n",
              "      <td>1</td>\n",
              "      <td>4</td>\n",
              "      <td>3</td>\n",
              "      <td>2</td>\n",
              "      <td>1</td>\n",
              "    </tr>\n",
              "    <tr>\n",
              "      <th>2</th>\n",
              "      <td>0</td>\n",
              "      <td>0</td>\n",
              "      <td>2</td>\n",
              "      <td>8</td>\n",
              "      <td>1</td>\n",
              "      <td>3</td>\n",
              "      <td>1</td>\n",
              "      <td>0</td>\n",
              "      <td>0</td>\n",
              "      <td>5</td>\n",
              "      <td>0</td>\n",
              "      <td>2</td>\n",
              "      <td>2</td>\n",
              "      <td>2</td>\n",
              "      <td>7</td>\n",
              "      <td>7</td>\n",
              "      <td>0</td>\n",
              "      <td>2</td>\n",
              "      <td>1</td>\n",
              "      <td>4</td>\n",
              "      <td>3</td>\n",
              "      <td>2</td>\n",
              "      <td>3</td>\n",
              "    </tr>\n",
              "    <tr>\n",
              "      <th>3</th>\n",
              "      <td>1</td>\n",
              "      <td>5</td>\n",
              "      <td>3</td>\n",
              "      <td>8</td>\n",
              "      <td>1</td>\n",
              "      <td>6</td>\n",
              "      <td>1</td>\n",
              "      <td>0</td>\n",
              "      <td>1</td>\n",
              "      <td>5</td>\n",
              "      <td>0</td>\n",
              "      <td>3</td>\n",
              "      <td>2</td>\n",
              "      <td>2</td>\n",
              "      <td>7</td>\n",
              "      <td>7</td>\n",
              "      <td>0</td>\n",
              "      <td>2</td>\n",
              "      <td>1</td>\n",
              "      <td>4</td>\n",
              "      <td>2</td>\n",
              "      <td>3</td>\n",
              "      <td>5</td>\n",
              "    </tr>\n",
              "    <tr>\n",
              "      <th>4</th>\n",
              "      <td>0</td>\n",
              "      <td>5</td>\n",
              "      <td>2</td>\n",
              "      <td>3</td>\n",
              "      <td>0</td>\n",
              "      <td>5</td>\n",
              "      <td>1</td>\n",
              "      <td>1</td>\n",
              "      <td>0</td>\n",
              "      <td>4</td>\n",
              "      <td>1</td>\n",
              "      <td>3</td>\n",
              "      <td>2</td>\n",
              "      <td>2</td>\n",
              "      <td>7</td>\n",
              "      <td>7</td>\n",
              "      <td>0</td>\n",
              "      <td>2</td>\n",
              "      <td>1</td>\n",
              "      <td>0</td>\n",
              "      <td>3</td>\n",
              "      <td>0</td>\n",
              "      <td>1</td>\n",
              "    </tr>\n",
              "  </tbody>\n",
              "</table>\n",
              "</div>"
            ],
            "text/plain": [
              "   class_edible  cap-shape  cap-surface  ...  spore-print-color  population  habitat\n",
              "0             1          5            2  ...                  2           3        5\n",
              "1             0          5            2  ...                  3           2        1\n",
              "2             0          0            2  ...                  3           2        3\n",
              "3             1          5            3  ...                  2           3        5\n",
              "4             0          5            2  ...                  3           0        1\n",
              "\n",
              "[5 rows x 23 columns]"
            ]
          },
          "metadata": {
            "tags": []
          },
          "execution_count": 5
        }
      ]
    },
    {
      "cell_type": "markdown",
      "metadata": {
        "id": "xJi2rAt1r4GO",
        "colab_type": "text"
      },
      "source": [
        "# Modellazione rete neurale"
      ]
    },
    {
      "cell_type": "markdown",
      "metadata": {
        "id": "QTA9nOnP1bve",
        "colab_type": "text"
      },
      "source": [
        "## Preparazione del modello"
      ]
    },
    {
      "cell_type": "code",
      "metadata": {
        "id": "9StiLPIs1fq6",
        "colab_type": "code",
        "colab": {}
      },
      "source": [
        "model = tf.keras.Sequential([\n",
        "    tf.keras.layers.Dense(128, activation='relu'),\n",
        "    tf.keras.layers.Dense(128, activation='relu'),\n",
        "    tf.keras.layers.Dense(1)\n",
        "])\n",
        "\n",
        "model.compile(\n",
        "    loss=tf.keras.losses.BinaryCrossentropy(from_logits=True),\n",
        "    optimizer='adam',\n",
        "    metrics=['accuracy'])\n"
      ],
      "execution_count": 0,
      "outputs": []
    },
    {
      "cell_type": "markdown",
      "metadata": {
        "id": "0GDBWAKRr0IX",
        "colab_type": "text"
      },
      "source": [
        "## Preparazione del Dataset"
      ]
    },
    {
      "cell_type": "code",
      "metadata": {
        "id": "CcPfP5txsAwd",
        "colab_type": "code",
        "colab": {
          "base_uri": "https://localhost:8080/",
          "height": 68
        },
        "outputId": "52314288-cbc9-4d2f-95fe-a5e2f9f13719"
      },
      "source": [
        "train, test = train_test_split(dataframe, test_size=0.2)\n",
        "train, val = train_test_split(train, test_size=0.1)\n",
        "print(len(train), 'train examples')\n",
        "print(len(test), 'test examples')\n",
        "print(len(val), 'val example')"
      ],
      "execution_count": 7,
      "outputs": [
        {
          "output_type": "stream",
          "text": [
            "5849 train examples\n",
            "1625 test examples\n",
            "650 val example\n"
          ],
          "name": "stdout"
        }
      ]
    },
    {
      "cell_type": "markdown",
      "metadata": {
        "id": "-5h5no5GgPQF",
        "colab_type": "text"
      },
      "source": [
        "## Addestramento"
      ]
    },
    {
      "cell_type": "code",
      "metadata": {
        "id": "28VIyvuCgSkt",
        "colab_type": "code",
        "outputId": "707f2ff6-9dff-4b1a-ba6c-4feb8a9e4e66",
        "colab": {
          "base_uri": "https://localhost:8080/",
          "height": 1000
        }
      },
      "source": [
        "# Creazione del dataset tensorflow di training\n",
        "train_target = train.pop(target_label)\n",
        "train_dataset = (tf.data.Dataset.from_tensor_slices((train.values, train_target.values))).shuffle(len(train)).batch(1)\n",
        "\n",
        "# Fase di Training\n",
        "model.fit(train_dataset, epochs=30)"
      ],
      "execution_count": 8,
      "outputs": [
        {
          "output_type": "stream",
          "text": [
            "Epoch 1/30\n",
            "5849/5849 [==============================] - 7s 1ms/step - loss: 0.1266 - accuracy: 0.9475\n",
            "Epoch 2/30\n",
            "5849/5849 [==============================] - 7s 1ms/step - loss: 0.0231 - accuracy: 0.9921\n",
            "Epoch 3/30\n",
            "5849/5849 [==============================] - 7s 1ms/step - loss: 0.0222 - accuracy: 0.9925\n",
            "Epoch 4/30\n",
            "5849/5849 [==============================] - 7s 1ms/step - loss: 0.0129 - accuracy: 0.9961\n",
            "Epoch 5/30\n",
            "5849/5849 [==============================] - 7s 1ms/step - loss: 0.0187 - accuracy: 0.9961\n",
            "Epoch 6/30\n",
            "5849/5849 [==============================] - 7s 1ms/step - loss: 0.0168 - accuracy: 0.9947\n",
            "Epoch 7/30\n",
            "5849/5849 [==============================] - 7s 1ms/step - loss: 0.0124 - accuracy: 0.9968\n",
            "Epoch 8/30\n",
            "5849/5849 [==============================] - 7s 1ms/step - loss: 0.0093 - accuracy: 0.9979\n",
            "Epoch 9/30\n",
            "5849/5849 [==============================] - 7s 1ms/step - loss: 0.0136 - accuracy: 0.9969\n",
            "Epoch 10/30\n",
            "5849/5849 [==============================] - 7s 1ms/step - loss: 0.0071 - accuracy: 0.9988\n",
            "Epoch 11/30\n",
            "5849/5849 [==============================] - 7s 1ms/step - loss: 0.0098 - accuracy: 0.9981\n",
            "Epoch 12/30\n",
            "5849/5849 [==============================] - 7s 1ms/step - loss: 0.0126 - accuracy: 0.9973\n",
            "Epoch 13/30\n",
            "5849/5849 [==============================] - 7s 1ms/step - loss: 0.0043 - accuracy: 0.9990\n",
            "Epoch 14/30\n",
            "5849/5849 [==============================] - 7s 1ms/step - loss: 0.0078 - accuracy: 0.9981\n",
            "Epoch 15/30\n",
            "5849/5849 [==============================] - 7s 1ms/step - loss: 0.0021 - accuracy: 0.9997\n",
            "Epoch 16/30\n",
            "5849/5849 [==============================] - 7s 1ms/step - loss: 0.0117 - accuracy: 0.9971\n",
            "Epoch 17/30\n",
            "5849/5849 [==============================] - 7s 1ms/step - loss: 0.0087 - accuracy: 0.9983\n",
            "Epoch 18/30\n",
            "5849/5849 [==============================] - 7s 1ms/step - loss: 0.0126 - accuracy: 0.9979\n",
            "Epoch 19/30\n",
            "5849/5849 [==============================] - 7s 1ms/step - loss: 0.0056 - accuracy: 0.9990\n",
            "Epoch 20/30\n",
            "5849/5849 [==============================] - 7s 1ms/step - loss: 0.0069 - accuracy: 0.9985\n",
            "Epoch 21/30\n",
            "5849/5849 [==============================] - 7s 1ms/step - loss: 0.0091 - accuracy: 0.9990\n",
            "Epoch 22/30\n",
            "5849/5849 [==============================] - 7s 1ms/step - loss: 0.0109 - accuracy: 0.9971\n",
            "Epoch 23/30\n",
            "5849/5849 [==============================] - 7s 1ms/step - loss: 0.0078 - accuracy: 0.9988\n",
            "Epoch 24/30\n",
            "5849/5849 [==============================] - 7s 1ms/step - loss: 0.0086 - accuracy: 0.9986\n",
            "Epoch 25/30\n",
            "5849/5849 [==============================] - 7s 1ms/step - loss: 4.6815e-05 - accuracy: 1.0000\n",
            "Epoch 26/30\n",
            "5849/5849 [==============================] - 7s 1ms/step - loss: 0.0078 - accuracy: 0.9981\n",
            "Epoch 27/30\n",
            "5849/5849 [==============================] - 7s 1ms/step - loss: 1.4433e-05 - accuracy: 1.0000\n",
            "Epoch 28/30\n",
            "5849/5849 [==============================] - 7s 1ms/step - loss: 1.9094e-06 - accuracy: 1.0000\n",
            "Epoch 29/30\n",
            "5849/5849 [==============================] - 7s 1ms/step - loss: 0.0076 - accuracy: 0.9983\n",
            "Epoch 30/30\n",
            "5849/5849 [==============================] - 7s 1ms/step - loss: 4.3577e-05 - accuracy: 1.0000\n"
          ],
          "name": "stdout"
        },
        {
          "output_type": "execute_result",
          "data": {
            "text/plain": [
              "<tensorflow.python.keras.callbacks.History at 0x7fd98d3ae278>"
            ]
          },
          "metadata": {
            "tags": []
          },
          "execution_count": 8
        }
      ]
    },
    {
      "cell_type": "markdown",
      "metadata": {
        "id": "LllTZ9UPMCR4",
        "colab_type": "text"
      },
      "source": [
        "## Test"
      ]
    },
    {
      "cell_type": "code",
      "metadata": {
        "id": "F_-tgmDnMDy_",
        "colab_type": "code",
        "colab": {
          "base_uri": "https://localhost:8080/",
          "height": 85
        },
        "outputId": "9f9582be-3eac-4c47-b798-8669a3b6cb7c"
      },
      "source": [
        "# Creazione del dataset tensrflow di test \n",
        "test_target = test.pop(target_label)\n",
        "test_dataset = (tf.data.Dataset.from_tensor_slices((test.values, test_target.values))).shuffle(len(test)).batch(1)\n",
        "\n",
        "# Fase di test\n",
        "test_loss, test_accuracy = model.evaluate(test_dataset)\n",
        "print('\\n\\nTest Loss {}, Test Accuracy {}'.format(test_loss, test_accuracy))"
      ],
      "execution_count": 9,
      "outputs": [
        {
          "output_type": "stream",
          "text": [
            "1625/1625 [==============================] - 1s 845us/step - loss: 4.5975e-09 - accuracy: 1.0000\n",
            "\n",
            "\n",
            "Test Loss 4.597512148762917e-09, Test Accuracy 1.0\n"
          ],
          "name": "stdout"
        }
      ]
    },
    {
      "cell_type": "markdown",
      "metadata": {
        "id": "vDYuXZirgUuh",
        "colab_type": "text"
      },
      "source": [
        "## Valutazione"
      ]
    },
    {
      "cell_type": "code",
      "metadata": {
        "id": "bwisZ92DgXlK",
        "colab_type": "code",
        "outputId": "8e12b6a2-2103-4cf8-89a1-cfc7d7624e56",
        "colab": {
          "base_uri": "https://localhost:8080/",
          "height": 187
        }
      },
      "source": [
        "# Creazione del dataset di valutazione\n",
        "val_target = val.pop(target_label)\n",
        "val_dataset = (tf.data.Dataset.from_tensor_slices(val.values)).batch(1)\n",
        "\n",
        "# Fase di valutazione\n",
        "predictions = model.predict(val_dataset)\n",
        "\n",
        "# Presentazione dei risultati di valutazione\n",
        "for prediction, poisonous in zip(predictions[:10], list(val_target)[:10]):\n",
        "  prediction = tf.sigmoid(prediction).numpy()\n",
        "  print(\"Predicted poisonous: {:.2%}\".format(prediction[0]),\n",
        "        \" | Actual outcome: \",\n",
        "        (\"Poisonous\" if bool(poisonous) else \"Safe\"))\n"
      ],
      "execution_count": 10,
      "outputs": [
        {
          "output_type": "stream",
          "text": [
            "Predicted poisonous: 100.00%  | Actual outcome:  Poisonous\n",
            "Predicted poisonous: 100.00%  | Actual outcome:  Poisonous\n",
            "Predicted poisonous: 0.00%  | Actual outcome:  Safe\n",
            "Predicted poisonous: 100.00%  | Actual outcome:  Poisonous\n",
            "Predicted poisonous: 0.00%  | Actual outcome:  Safe\n",
            "Predicted poisonous: 0.00%  | Actual outcome:  Safe\n",
            "Predicted poisonous: 100.00%  | Actual outcome:  Poisonous\n",
            "Predicted poisonous: 0.00%  | Actual outcome:  Safe\n",
            "Predicted poisonous: 0.00%  | Actual outcome:  Safe\n",
            "Predicted poisonous: 100.00%  | Actual outcome:  Poisonous\n"
          ],
          "name": "stdout"
        }
      ]
    }
  ]
}
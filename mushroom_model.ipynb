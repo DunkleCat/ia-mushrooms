{
  "nbformat": 4,
  "nbformat_minor": 0,
  "metadata": {
    "colab": {
      "name": "mushroom-model.ipynb",
      "provenance": [],
      "collapsed_sections": [],
      "mount_file_id": "13axi8H7xjXAapJI79GY3544OHBgTKymn",
      "authorship_tag": "ABX9TyMou9m/2vZ0cUFc/9yca13x",
      "include_colab_link": true
    },
    "kernelspec": {
      "name": "python3",
      "display_name": "Python 3"
    }
  },
  "cells": [
    {
      "cell_type": "markdown",
      "metadata": {
        "id": "view-in-github",
        "colab_type": "text"
      },
      "source": [
        "<a href=\"https://colab.research.google.com/github/DunkleCat/IA-challenge-prova-1/blob/master/mushroom_model.ipynb\" target=\"_parent\"><img src=\"https://colab.research.google.com/assets/colab-badge.svg\" alt=\"Open In Colab\"/></a>"
      ]
    },
    {
      "cell_type": "markdown",
      "metadata": {
        "id": "qOkWx1CUucYl",
        "colab_type": "text"
      },
      "source": [
        "# Librerie"
      ]
    },
    {
      "cell_type": "code",
      "metadata": {
        "id": "FOYRCVofujPu",
        "colab_type": "code",
        "colab": {}
      },
      "source": [
        "import numpy as np\n",
        "import pandas as pd\n",
        "import tensorflow as tf\n",
        "\n",
        "from tensorflow import feature_column\n",
        "from tensorflow.keras import layers\n",
        "from sklearn.model_selection import train_test_split\n",
        "\n",
        "# Rende i numeri a virgola mobile più leggibili\n",
        "np.set_printoptions(precision=3, suppress=True)"
      ],
      "execution_count": 0,
      "outputs": []
    },
    {
      "cell_type": "markdown",
      "metadata": {
        "id": "7UGYkgb8u1Ey",
        "colab_type": "text"
      },
      "source": [
        "# Dataframe"
      ]
    },
    {
      "cell_type": "markdown",
      "metadata": {
        "id": "Fon2hWUTf5-b",
        "colab_type": "text"
      },
      "source": [
        "## Download del dataset"
      ]
    },
    {
      "cell_type": "code",
      "metadata": {
        "id": "eubdAJntf8bU",
        "colab_type": "code",
        "colab": {}
      },
      "source": [
        "csv_file = \"/content/drive/My Drive/datasets/mushroom_data_all.csv\"\n",
        "dataframe = pd.read_csv(csv_file)\n",
        "target_label = \"class_edible\""
      ],
      "execution_count": 0,
      "outputs": []
    },
    {
      "cell_type": "markdown",
      "metadata": {
        "id": "Uala2iegf_zm",
        "colab_type": "text"
      },
      "source": [
        "## Vista generica del dataset"
      ]
    },
    {
      "cell_type": "code",
      "metadata": {
        "id": "R6m5TpXCgF5C",
        "colab_type": "code",
        "colab": {
          "base_uri": "https://localhost:8080/",
          "height": 238
        },
        "outputId": "e018a48b-3184-4d89-cf76-5d37bb8c5ee3"
      },
      "source": [
        "dataframe.head()"
      ],
      "execution_count": 3,
      "outputs": [
        {
          "output_type": "execute_result",
          "data": {
            "text/html": [
              "<div>\n",
              "<style scoped>\n",
              "    .dataframe tbody tr th:only-of-type {\n",
              "        vertical-align: middle;\n",
              "    }\n",
              "\n",
              "    .dataframe tbody tr th {\n",
              "        vertical-align: top;\n",
              "    }\n",
              "\n",
              "    .dataframe thead th {\n",
              "        text-align: right;\n",
              "    }\n",
              "</style>\n",
              "<table border=\"1\" class=\"dataframe\">\n",
              "  <thead>\n",
              "    <tr style=\"text-align: right;\">\n",
              "      <th></th>\n",
              "      <th>class_edible</th>\n",
              "      <th>cap-shape</th>\n",
              "      <th>cap-surface</th>\n",
              "      <th>cap-color</th>\n",
              "      <th>bruises</th>\n",
              "      <th>odor</th>\n",
              "      <th>gill-attachment</th>\n",
              "      <th>gill-spacing</th>\n",
              "      <th>gill-size</th>\n",
              "      <th>gill-color</th>\n",
              "      <th>stalk-shape</th>\n",
              "      <th>stalk-root</th>\n",
              "      <th>stalk-surface-above-ring</th>\n",
              "      <th>stalk-surface-below-ring</th>\n",
              "      <th>stalk-color-above-ring</th>\n",
              "      <th>stalk-color-below-ring</th>\n",
              "      <th>veil-type</th>\n",
              "      <th>veil-color</th>\n",
              "      <th>ring-number</th>\n",
              "      <th>ring-type</th>\n",
              "      <th>spore-print-color</th>\n",
              "      <th>population</th>\n",
              "      <th>habitat</th>\n",
              "    </tr>\n",
              "  </thead>\n",
              "  <tbody>\n",
              "    <tr>\n",
              "      <th>0</th>\n",
              "      <td>p</td>\n",
              "      <td>x</td>\n",
              "      <td>s</td>\n",
              "      <td>n</td>\n",
              "      <td>t</td>\n",
              "      <td>p</td>\n",
              "      <td>f</td>\n",
              "      <td>c</td>\n",
              "      <td>n</td>\n",
              "      <td>k</td>\n",
              "      <td>e</td>\n",
              "      <td>e</td>\n",
              "      <td>s</td>\n",
              "      <td>s</td>\n",
              "      <td>w</td>\n",
              "      <td>w</td>\n",
              "      <td>p</td>\n",
              "      <td>w</td>\n",
              "      <td>o</td>\n",
              "      <td>p</td>\n",
              "      <td>k</td>\n",
              "      <td>s</td>\n",
              "      <td>u</td>\n",
              "    </tr>\n",
              "    <tr>\n",
              "      <th>1</th>\n",
              "      <td>e</td>\n",
              "      <td>x</td>\n",
              "      <td>s</td>\n",
              "      <td>y</td>\n",
              "      <td>t</td>\n",
              "      <td>a</td>\n",
              "      <td>f</td>\n",
              "      <td>c</td>\n",
              "      <td>b</td>\n",
              "      <td>k</td>\n",
              "      <td>e</td>\n",
              "      <td>c</td>\n",
              "      <td>s</td>\n",
              "      <td>s</td>\n",
              "      <td>w</td>\n",
              "      <td>w</td>\n",
              "      <td>p</td>\n",
              "      <td>w</td>\n",
              "      <td>o</td>\n",
              "      <td>p</td>\n",
              "      <td>n</td>\n",
              "      <td>n</td>\n",
              "      <td>g</td>\n",
              "    </tr>\n",
              "    <tr>\n",
              "      <th>2</th>\n",
              "      <td>e</td>\n",
              "      <td>b</td>\n",
              "      <td>s</td>\n",
              "      <td>w</td>\n",
              "      <td>t</td>\n",
              "      <td>l</td>\n",
              "      <td>f</td>\n",
              "      <td>c</td>\n",
              "      <td>b</td>\n",
              "      <td>n</td>\n",
              "      <td>e</td>\n",
              "      <td>c</td>\n",
              "      <td>s</td>\n",
              "      <td>s</td>\n",
              "      <td>w</td>\n",
              "      <td>w</td>\n",
              "      <td>p</td>\n",
              "      <td>w</td>\n",
              "      <td>o</td>\n",
              "      <td>p</td>\n",
              "      <td>n</td>\n",
              "      <td>n</td>\n",
              "      <td>m</td>\n",
              "    </tr>\n",
              "    <tr>\n",
              "      <th>3</th>\n",
              "      <td>p</td>\n",
              "      <td>x</td>\n",
              "      <td>y</td>\n",
              "      <td>w</td>\n",
              "      <td>t</td>\n",
              "      <td>p</td>\n",
              "      <td>f</td>\n",
              "      <td>c</td>\n",
              "      <td>n</td>\n",
              "      <td>n</td>\n",
              "      <td>e</td>\n",
              "      <td>e</td>\n",
              "      <td>s</td>\n",
              "      <td>s</td>\n",
              "      <td>w</td>\n",
              "      <td>w</td>\n",
              "      <td>p</td>\n",
              "      <td>w</td>\n",
              "      <td>o</td>\n",
              "      <td>p</td>\n",
              "      <td>k</td>\n",
              "      <td>s</td>\n",
              "      <td>u</td>\n",
              "    </tr>\n",
              "    <tr>\n",
              "      <th>4</th>\n",
              "      <td>e</td>\n",
              "      <td>x</td>\n",
              "      <td>s</td>\n",
              "      <td>g</td>\n",
              "      <td>f</td>\n",
              "      <td>n</td>\n",
              "      <td>f</td>\n",
              "      <td>w</td>\n",
              "      <td>b</td>\n",
              "      <td>k</td>\n",
              "      <td>t</td>\n",
              "      <td>e</td>\n",
              "      <td>s</td>\n",
              "      <td>s</td>\n",
              "      <td>w</td>\n",
              "      <td>w</td>\n",
              "      <td>p</td>\n",
              "      <td>w</td>\n",
              "      <td>o</td>\n",
              "      <td>e</td>\n",
              "      <td>n</td>\n",
              "      <td>a</td>\n",
              "      <td>g</td>\n",
              "    </tr>\n",
              "  </tbody>\n",
              "</table>\n",
              "</div>"
            ],
            "text/plain": [
              "  class_edible cap-shape cap-surface  ... spore-print-color population habitat\n",
              "0            p         x           s  ...                 k          s       u\n",
              "1            e         x           s  ...                 n          n       g\n",
              "2            e         b           s  ...                 n          n       m\n",
              "3            p         x           y  ...                 k          s       u\n",
              "4            e         x           s  ...                 n          a       g\n",
              "\n",
              "[5 rows x 23 columns]"
            ]
          },
          "metadata": {
            "tags": []
          },
          "execution_count": 3
        }
      ]
    },
    {
      "cell_type": "markdown",
      "metadata": {
        "id": "LImIgnc9gZ0r",
        "colab_type": "text"
      },
      "source": [
        "## Ottimizzazione del dataset\n",
        "\n",
        "La rete neurale lavora sfruttando i numeri e non le stringhe. Per questo motivo conviene trasformare ogni colonna che contiene degli identificatori scritti come carattere (in questo caso tutti) in numeri interi che rappresentino la classe corrispondente. "
      ]
    },
    {
      "cell_type": "code",
      "metadata": {
        "id": "kG51n1MTu8KH",
        "colab_type": "code",
        "cellView": "both",
        "colab": {}
      },
      "source": [
        "for elem in dataframe:\n",
        "  dataframe[elem] = pd.Categorical(dataframe[elem])\n",
        "  dataframe[elem] = getattr(dataframe, elem).cat.codes"
      ],
      "execution_count": 0,
      "outputs": []
    },
    {
      "cell_type": "markdown",
      "metadata": {
        "id": "GcZxX3F3g0-Z",
        "colab_type": "text"
      },
      "source": [
        "## Dataset post-ottimizzazione"
      ]
    },
    {
      "cell_type": "code",
      "metadata": {
        "id": "Ts23AFdRg3vw",
        "colab_type": "code",
        "colab": {
          "base_uri": "https://localhost:8080/",
          "height": 275
        },
        "outputId": "77b31fff-b2ab-47bd-c2fe-57b71e065509"
      },
      "source": [
        "dataframe.head()"
      ],
      "execution_count": 5,
      "outputs": [
        {
          "output_type": "execute_result",
          "data": {
            "text/html": [
              "<div>\n",
              "<style scoped>\n",
              "    .dataframe tbody tr th:only-of-type {\n",
              "        vertical-align: middle;\n",
              "    }\n",
              "\n",
              "    .dataframe tbody tr th {\n",
              "        vertical-align: top;\n",
              "    }\n",
              "\n",
              "    .dataframe thead th {\n",
              "        text-align: right;\n",
              "    }\n",
              "</style>\n",
              "<table border=\"1\" class=\"dataframe\">\n",
              "  <thead>\n",
              "    <tr style=\"text-align: right;\">\n",
              "      <th></th>\n",
              "      <th>class_edible</th>\n",
              "      <th>cap-shape</th>\n",
              "      <th>cap-surface</th>\n",
              "      <th>cap-color</th>\n",
              "      <th>bruises</th>\n",
              "      <th>odor</th>\n",
              "      <th>gill-attachment</th>\n",
              "      <th>gill-spacing</th>\n",
              "      <th>gill-size</th>\n",
              "      <th>gill-color</th>\n",
              "      <th>stalk-shape</th>\n",
              "      <th>stalk-root</th>\n",
              "      <th>stalk-surface-above-ring</th>\n",
              "      <th>stalk-surface-below-ring</th>\n",
              "      <th>stalk-color-above-ring</th>\n",
              "      <th>stalk-color-below-ring</th>\n",
              "      <th>veil-type</th>\n",
              "      <th>veil-color</th>\n",
              "      <th>ring-number</th>\n",
              "      <th>ring-type</th>\n",
              "      <th>spore-print-color</th>\n",
              "      <th>population</th>\n",
              "      <th>habitat</th>\n",
              "    </tr>\n",
              "  </thead>\n",
              "  <tbody>\n",
              "    <tr>\n",
              "      <th>0</th>\n",
              "      <td>1</td>\n",
              "      <td>5</td>\n",
              "      <td>2</td>\n",
              "      <td>4</td>\n",
              "      <td>1</td>\n",
              "      <td>6</td>\n",
              "      <td>1</td>\n",
              "      <td>0</td>\n",
              "      <td>1</td>\n",
              "      <td>4</td>\n",
              "      <td>0</td>\n",
              "      <td>3</td>\n",
              "      <td>2</td>\n",
              "      <td>2</td>\n",
              "      <td>7</td>\n",
              "      <td>7</td>\n",
              "      <td>0</td>\n",
              "      <td>2</td>\n",
              "      <td>1</td>\n",
              "      <td>4</td>\n",
              "      <td>2</td>\n",
              "      <td>3</td>\n",
              "      <td>5</td>\n",
              "    </tr>\n",
              "    <tr>\n",
              "      <th>1</th>\n",
              "      <td>0</td>\n",
              "      <td>5</td>\n",
              "      <td>2</td>\n",
              "      <td>9</td>\n",
              "      <td>1</td>\n",
              "      <td>0</td>\n",
              "      <td>1</td>\n",
              "      <td>0</td>\n",
              "      <td>0</td>\n",
              "      <td>4</td>\n",
              "      <td>0</td>\n",
              "      <td>2</td>\n",
              "      <td>2</td>\n",
              "      <td>2</td>\n",
              "      <td>7</td>\n",
              "      <td>7</td>\n",
              "      <td>0</td>\n",
              "      <td>2</td>\n",
              "      <td>1</td>\n",
              "      <td>4</td>\n",
              "      <td>3</td>\n",
              "      <td>2</td>\n",
              "      <td>1</td>\n",
              "    </tr>\n",
              "    <tr>\n",
              "      <th>2</th>\n",
              "      <td>0</td>\n",
              "      <td>0</td>\n",
              "      <td>2</td>\n",
              "      <td>8</td>\n",
              "      <td>1</td>\n",
              "      <td>3</td>\n",
              "      <td>1</td>\n",
              "      <td>0</td>\n",
              "      <td>0</td>\n",
              "      <td>5</td>\n",
              "      <td>0</td>\n",
              "      <td>2</td>\n",
              "      <td>2</td>\n",
              "      <td>2</td>\n",
              "      <td>7</td>\n",
              "      <td>7</td>\n",
              "      <td>0</td>\n",
              "      <td>2</td>\n",
              "      <td>1</td>\n",
              "      <td>4</td>\n",
              "      <td>3</td>\n",
              "      <td>2</td>\n",
              "      <td>3</td>\n",
              "    </tr>\n",
              "    <tr>\n",
              "      <th>3</th>\n",
              "      <td>1</td>\n",
              "      <td>5</td>\n",
              "      <td>3</td>\n",
              "      <td>8</td>\n",
              "      <td>1</td>\n",
              "      <td>6</td>\n",
              "      <td>1</td>\n",
              "      <td>0</td>\n",
              "      <td>1</td>\n",
              "      <td>5</td>\n",
              "      <td>0</td>\n",
              "      <td>3</td>\n",
              "      <td>2</td>\n",
              "      <td>2</td>\n",
              "      <td>7</td>\n",
              "      <td>7</td>\n",
              "      <td>0</td>\n",
              "      <td>2</td>\n",
              "      <td>1</td>\n",
              "      <td>4</td>\n",
              "      <td>2</td>\n",
              "      <td>3</td>\n",
              "      <td>5</td>\n",
              "    </tr>\n",
              "    <tr>\n",
              "      <th>4</th>\n",
              "      <td>0</td>\n",
              "      <td>5</td>\n",
              "      <td>2</td>\n",
              "      <td>3</td>\n",
              "      <td>0</td>\n",
              "      <td>5</td>\n",
              "      <td>1</td>\n",
              "      <td>1</td>\n",
              "      <td>0</td>\n",
              "      <td>4</td>\n",
              "      <td>1</td>\n",
              "      <td>3</td>\n",
              "      <td>2</td>\n",
              "      <td>2</td>\n",
              "      <td>7</td>\n",
              "      <td>7</td>\n",
              "      <td>0</td>\n",
              "      <td>2</td>\n",
              "      <td>1</td>\n",
              "      <td>0</td>\n",
              "      <td>3</td>\n",
              "      <td>0</td>\n",
              "      <td>1</td>\n",
              "    </tr>\n",
              "  </tbody>\n",
              "</table>\n",
              "</div>"
            ],
            "text/plain": [
              "   class_edible  cap-shape  cap-surface  ...  spore-print-color  population  habitat\n",
              "0             1          5            2  ...                  2           3        5\n",
              "1             0          5            2  ...                  3           2        1\n",
              "2             0          0            2  ...                  3           2        3\n",
              "3             1          5            3  ...                  2           3        5\n",
              "4             0          5            2  ...                  3           0        1\n",
              "\n",
              "[5 rows x 23 columns]"
            ]
          },
          "metadata": {
            "tags": []
          },
          "execution_count": 5
        }
      ]
    },
    {
      "cell_type": "markdown",
      "metadata": {
        "id": "xJi2rAt1r4GO",
        "colab_type": "text"
      },
      "source": [
        "# Modellazione rete neurale"
      ]
    },
    {
      "cell_type": "markdown",
      "metadata": {
        "id": "QTA9nOnP1bve",
        "colab_type": "text"
      },
      "source": [
        "## Preparazione del modello"
      ]
    },
    {
      "cell_type": "code",
      "metadata": {
        "id": "9StiLPIs1fq6",
        "colab_type": "code",
        "colab": {}
      },
      "source": [
        "model = tf.keras.Sequential([\n",
        "    tf.keras.layers.Dense(128, activation='relu'),\n",
        "    tf.keras.layers.Dense(128, activation='relu'),\n",
        "    tf.keras.layers.Dense(1)\n",
        "])\n",
        "\n",
        "model.compile(\n",
        "    loss=tf.keras.losses.BinaryCrossentropy(from_logits=True),\n",
        "    optimizer='adam',\n",
        "    metrics=['accuracy'])\n"
      ],
      "execution_count": 0,
      "outputs": []
    },
    {
      "cell_type": "markdown",
      "metadata": {
        "id": "0GDBWAKRr0IX",
        "colab_type": "text"
      },
      "source": [
        "## Preparazione del Dataset"
      ]
    },
    {
      "cell_type": "code",
      "metadata": {
        "id": "CcPfP5txsAwd",
        "colab_type": "code",
        "colab": {
          "base_uri": "https://localhost:8080/",
          "height": 51
        },
        "outputId": "6c92dbc0-bf6d-4273-ed46-4f35bc1d4671"
      },
      "source": [
        "# Per avere dal set iniziale i vari sottogruppi necessari per l'addestramento\n",
        "train, test = train_test_split(dataframe, test_size=0.2)\n",
        "print(len(train), 'train examples')\n",
        "print(len(test), 'test examples')"
      ],
      "execution_count": 7,
      "outputs": [
        {
          "output_type": "stream",
          "text": [
            "6499 train examples\n",
            "1625 test examples\n"
          ],
          "name": "stdout"
        }
      ]
    },
    {
      "cell_type": "markdown",
      "metadata": {
        "id": "-5h5no5GgPQF",
        "colab_type": "text"
      },
      "source": [
        "## Addestramento"
      ]
    },
    {
      "cell_type": "code",
      "metadata": {
        "id": "28VIyvuCgSkt",
        "colab_type": "code",
        "outputId": "72c03ab8-1d8f-4f5c-81c5-07eeec321d46",
        "colab": {
          "base_uri": "https://localhost:8080/",
          "height": 1000
        }
      },
      "source": [
        "# Creazione del dataset tensorflow di training\n",
        "train_target = train.pop(target_label)\n",
        "train_dataset = (tf.data.Dataset.from_tensor_slices((train.values, train_target.values))).shuffle(len(train)).batch(1)\n",
        "\n",
        "# Fase di Training\n",
        "model.fit(train_dataset, epochs=30)"
      ],
      "execution_count": 8,
      "outputs": [
        {
          "output_type": "stream",
          "text": [
            "Epoch 1/30\n",
            "6499/6499 [==============================] - 8s 1ms/step - loss: 0.1199 - accuracy: 0.9483\n",
            "Epoch 2/30\n",
            "6499/6499 [==============================] - 8s 1ms/step - loss: 0.0265 - accuracy: 0.9906\n",
            "Epoch 3/30\n",
            "6499/6499 [==============================] - 8s 1ms/step - loss: 0.0210 - accuracy: 0.9932\n",
            "Epoch 4/30\n",
            "6499/6499 [==============================] - 8s 1ms/step - loss: 0.0136 - accuracy: 0.9960\n",
            "Epoch 5/30\n",
            "6499/6499 [==============================] - 8s 1ms/step - loss: 0.0153 - accuracy: 0.9963\n",
            "Epoch 6/30\n",
            "6499/6499 [==============================] - 8s 1ms/step - loss: 0.0165 - accuracy: 0.9965\n",
            "Epoch 7/30\n",
            "6499/6499 [==============================] - 8s 1ms/step - loss: 0.0082 - accuracy: 0.9975\n",
            "Epoch 8/30\n",
            "6499/6499 [==============================] - 8s 1ms/step - loss: 0.0193 - accuracy: 0.9974\n",
            "Epoch 9/30\n",
            "6499/6499 [==============================] - 8s 1ms/step - loss: 0.0056 - accuracy: 0.9982\n",
            "Epoch 10/30\n",
            "6499/6499 [==============================] - 8s 1ms/step - loss: 0.0100 - accuracy: 0.9972\n",
            "Epoch 11/30\n",
            "6499/6499 [==============================] - 8s 1ms/step - loss: 0.0090 - accuracy: 0.9972\n",
            "Epoch 12/30\n",
            "6499/6499 [==============================] - 8s 1ms/step - loss: 0.0114 - accuracy: 0.9978\n",
            "Epoch 13/30\n",
            "6499/6499 [==============================] - 8s 1ms/step - loss: 0.0016 - accuracy: 0.9997\n",
            "Epoch 14/30\n",
            "6499/6499 [==============================] - 8s 1ms/step - loss: 2.7191e-06 - accuracy: 1.0000\n",
            "Epoch 15/30\n",
            "6499/6499 [==============================] - 8s 1ms/step - loss: 0.0157 - accuracy: 0.9982\n",
            "Epoch 16/30\n",
            "6499/6499 [==============================] - 7s 1ms/step - loss: 0.0042 - accuracy: 0.9997\n",
            "Epoch 17/30\n",
            "6499/6499 [==============================] - 8s 1ms/step - loss: 0.0091 - accuracy: 0.9974\n",
            "Epoch 18/30\n",
            "6499/6499 [==============================] - 8s 1ms/step - loss: 0.0074 - accuracy: 0.9988\n",
            "Epoch 19/30\n",
            "6499/6499 [==============================] - 8s 1ms/step - loss: 0.0161 - accuracy: 0.9986\n",
            "Epoch 20/30\n",
            "6499/6499 [==============================] - 8s 1ms/step - loss: 0.0087 - accuracy: 0.9986\n",
            "Epoch 21/30\n",
            "6499/6499 [==============================] - 8s 1ms/step - loss: 2.6162e-05 - accuracy: 1.0000\n",
            "Epoch 22/30\n",
            "6499/6499 [==============================] - 8s 1ms/step - loss: 1.9137e-07 - accuracy: 1.0000\n",
            "Epoch 23/30\n",
            "6499/6499 [==============================] - 8s 1ms/step - loss: 0.0085 - accuracy: 0.9989\n",
            "Epoch 24/30\n",
            "6499/6499 [==============================] - 8s 1ms/step - loss: 0.0056 - accuracy: 0.9991\n",
            "Epoch 25/30\n",
            "6499/6499 [==============================] - 8s 1ms/step - loss: 0.0022 - accuracy: 0.9997\n",
            "Epoch 26/30\n",
            "6499/6499 [==============================] - 8s 1ms/step - loss: 2.5891e-07 - accuracy: 1.0000\n",
            "Epoch 27/30\n",
            "6499/6499 [==============================] - 8s 1ms/step - loss: 0.0144 - accuracy: 0.9986\n",
            "Epoch 28/30\n",
            "6499/6499 [==============================] - 8s 1ms/step - loss: 1.8976e-05 - accuracy: 1.0000\n",
            "Epoch 29/30\n",
            "6499/6499 [==============================] - 8s 1ms/step - loss: 0.0059 - accuracy: 0.9989\n",
            "Epoch 30/30\n",
            "6499/6499 [==============================] - 8s 1ms/step - loss: 1.3219e-06 - accuracy: 1.0000\n"
          ],
          "name": "stdout"
        },
        {
          "output_type": "execute_result",
          "data": {
            "text/plain": [
              "<tensorflow.python.keras.callbacks.History at 0x7fc9fa5ecc18>"
            ]
          },
          "metadata": {
            "tags": []
          },
          "execution_count": 8
        }
      ]
    },
    {
      "cell_type": "markdown",
      "metadata": {
        "id": "vDYuXZirgUuh",
        "colab_type": "text"
      },
      "source": [
        "## Valutazione"
      ]
    },
    {
      "cell_type": "code",
      "metadata": {
        "id": "bwisZ92DgXlK",
        "colab_type": "code",
        "outputId": "652d7a45-206b-4005-d1e3-6ddd165f6002",
        "colab": {
          "base_uri": "https://localhost:8080/",
          "height": 85
        }
      },
      "source": [
        "# Creazione del dataset tensrflow di test \n",
        "test_target = test.pop(target_label)\n",
        "test_dataset = (tf.data.Dataset.from_tensor_slices((test.values, test_target.values))).shuffle(len(test)).batch(1)\n",
        "\n",
        "# Fase di test\n",
        "test_loss, test_accuracy = model.evaluate(test_dataset)\n",
        "print('\\n\\nTest Loss {}, Test Accuracy {}'.format(test_loss, test_accuracy))"
      ],
      "execution_count": 9,
      "outputs": [
        {
          "output_type": "stream",
          "text": [
            "1625/1625 [==============================] - 1s 837us/step - loss: 7.0696e-07 - accuracy: 1.0000\n",
            "\n",
            "\n",
            "Test Loss 7.069559160299832e-07, Test Accuracy 1.0\n"
          ],
          "name": "stdout"
        }
      ]
    }
  ]
}
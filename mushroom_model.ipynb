{
  "nbformat": 4,
  "nbformat_minor": 0,
  "metadata": {
    "colab": {
      "name": "mushroom-model.ipynb",
      "provenance": [],
      "collapsed_sections": [],
      "mount_file_id": "13axi8H7xjXAapJI79GY3544OHBgTKymn",
      "authorship_tag": "ABX9TyNhR7AFuCfnN8msG+QZPzcN",
      "include_colab_link": true
    },
    "kernelspec": {
      "name": "python3",
      "display_name": "Python 3"
    }
  },
  "cells": [
    {
      "cell_type": "markdown",
      "metadata": {
        "id": "view-in-github",
        "colab_type": "text"
      },
      "source": [
        "<a href=\"https://colab.research.google.com/github/DunkleCat/ia-mushrooms/blob/master/mushroom_model.ipynb\" target=\"_parent\"><img src=\"https://colab.research.google.com/assets/colab-badge.svg\" alt=\"Open In Colab\"/></a>"
      ]
    },
    {
      "cell_type": "markdown",
      "metadata": {
        "id": "qOkWx1CUucYl",
        "colab_type": "text"
      },
      "source": [
        "# Librerie"
      ]
    },
    {
      "cell_type": "code",
      "metadata": {
        "id": "FOYRCVofujPu",
        "colab_type": "code",
        "colab": {}
      },
      "source": [
        "# Generici\n",
        "import matplotlib.pyplot as plt\n",
        "import numpy as np\n",
        "import pandas as pd\n",
        "\n",
        "from sklearn.model_selection import train_test_split\n",
        "\n",
        "# Classificatori\n",
        "from sklearn import metrics\n",
        "from sklearn.tree import DecisionTreeClassifier\n",
        "from sklearn.ensemble import RandomForestClassifier\n",
        "\n",
        "# Rete neurale\n",
        "import tensorflow as tf\n",
        "\n",
        "# Rende i numeri a virgola mobile più leggibili\n",
        "np.set_printoptions(precision=3, suppress=True)"
      ],
      "execution_count": 0,
      "outputs": []
    },
    {
      "cell_type": "markdown",
      "metadata": {
        "id": "7UGYkgb8u1Ey",
        "colab_type": "text"
      },
      "source": [
        "# Dataframe"
      ]
    },
    {
      "cell_type": "markdown",
      "metadata": {
        "id": "Fon2hWUTf5-b",
        "colab_type": "text"
      },
      "source": [
        "## Download del dataframe"
      ]
    },
    {
      "cell_type": "code",
      "metadata": {
        "id": "eubdAJntf8bU",
        "colab_type": "code",
        "colab": {}
      },
      "source": [
        "csv_file = \"./mushroom_data_all.csv\"\n",
        "dataframe = pd.read_csv(csv_file)\n",
        "target_label = \"class_edible\""
      ],
      "execution_count": 0,
      "outputs": []
    },
    {
      "cell_type": "markdown",
      "metadata": {
        "id": "LImIgnc9gZ0r",
        "colab_type": "text"
      },
      "source": [
        "## Ottimizzazione del dataframe\n",
        "\n",
        "La rete neurale lavora sfruttando i numeri e non le stringhe. Per questo motivo conviene trasformare ogni colonna che contiene elementi scritti come caratteri o stringhe (in questo caso tutti) in numeri interi che rappresentino l'elemento corrispondente. "
      ]
    },
    {
      "cell_type": "code",
      "metadata": {
        "id": "kG51n1MTu8KH",
        "colab_type": "code",
        "cellView": "both",
        "outputId": "77188f3d-572d-4d0d-df59-216ace1b43e0",
        "colab": {
          "base_uri": "https://localhost:8080/",
          "height": 340
        }
      },
      "source": [
        "print(\"Before:\\n\", dataframe.head())\n",
        "\n",
        "for elem in dataframe:\n",
        "  dataframe[elem] = pd.Categorical(dataframe[elem])\n",
        "  dataframe[elem] = getattr(dataframe, elem).cat.codes\n",
        "\n",
        "print(\"\\nAfter:\\n\", dataframe.head())"
      ],
      "execution_count": 3,
      "outputs": [
        {
          "output_type": "stream",
          "text": [
            "Before:\n",
            "   class_edible cap-shape cap-surface  ... spore-print-color population habitat\n",
            "0            p         x           s  ...                 k          s       u\n",
            "1            e         x           s  ...                 n          n       g\n",
            "2            e         b           s  ...                 n          n       m\n",
            "3            p         x           y  ...                 k          s       u\n",
            "4            e         x           s  ...                 n          a       g\n",
            "\n",
            "[5 rows x 23 columns]\n",
            "\n",
            "After:\n",
            "    class_edible  cap-shape  cap-surface  ...  spore-print-color  population  habitat\n",
            "0             1          5            2  ...                  2           3        5\n",
            "1             0          5            2  ...                  3           2        1\n",
            "2             0          0            2  ...                  3           2        3\n",
            "3             1          5            3  ...                  2           3        5\n",
            "4             0          5            2  ...                  3           0        1\n",
            "\n",
            "[5 rows x 23 columns]\n"
          ],
          "name": "stdout"
        }
      ]
    },
    {
      "cell_type": "markdown",
      "metadata": {
        "id": "SBMYePIzMcuG",
        "colab_type": "text"
      },
      "source": [
        "# Classificatori"
      ]
    },
    {
      "cell_type": "markdown",
      "metadata": {
        "id": "oy59iKdcMg6X",
        "colab_type": "text"
      },
      "source": [
        "## Preparazione del classificatore"
      ]
    },
    {
      "cell_type": "code",
      "metadata": {
        "id": "-HW5pIeCMgHQ",
        "colab_type": "code",
        "colab": {
          "base_uri": "https://localhost:8080/",
          "height": 51
        },
        "outputId": "571557bb-d948-4b09-9a9d-dbdfec170a45"
      },
      "source": [
        "train, test = train_test_split(dataframe, test_size=0.1)\n",
        "print(len(train), 'train examples')\n",
        "print(len(test), 'test examples')\n",
        "\n",
        "model_rf = RandomForestClassifier(random_state=1)\n",
        "model_dt = DecisionTreeClassifier(random_state=1)"
      ],
      "execution_count": 4,
      "outputs": [
        {
          "output_type": "stream",
          "text": [
            "7311 train examples\n",
            "813 test examples\n"
          ],
          "name": "stdout"
        }
      ]
    },
    {
      "cell_type": "markdown",
      "metadata": {
        "id": "R1BFG2-DMl8W",
        "colab_type": "text"
      },
      "source": [
        "## Addestramento"
      ]
    },
    {
      "cell_type": "code",
      "metadata": {
        "id": "EjtC4BEcMv0n",
        "colab_type": "code",
        "colab": {}
      },
      "source": [
        "train_target = train.pop(target_label)\n",
        "model_rf.fit(train, train_target)\n",
        "model_dt.fit(train, train_target)"
      ],
      "execution_count": 0,
      "outputs": []
    },
    {
      "cell_type": "markdown",
      "metadata": {
        "id": "H-RBVhGZMncZ",
        "colab_type": "text"
      },
      "source": [
        "## Test"
      ]
    },
    {
      "cell_type": "code",
      "metadata": {
        "id": "nB1ZGEwyMp4i",
        "colab_type": "code",
        "colab": {
          "base_uri": "https://localhost:8080/",
          "height": 51
        },
        "outputId": "d0217833-f6d4-4e76-a0e8-0cb22fe23720"
      },
      "source": [
        "test_target = test.pop(target_label)\n",
        "\n",
        "preds = model_rf.predict(test)\n",
        "test_accuracy = metrics.accuracy_score(test_target, preds)\n",
        "print('[Random Forest]: Accuratezza Fase di Test: ', test_accuracy)\n",
        "\n",
        "preds = model_dt.predict(test)\n",
        "test_accuracy = metrics.accuracy_score(test_target, preds)\n",
        "print('[Decision Tree]: Accuratezza Fase di Test: ', test_accuracy)"
      ],
      "execution_count": 6,
      "outputs": [
        {
          "output_type": "stream",
          "text": [
            "[Random Forest]: Accuratezza Fase di Test:  1.0\n",
            "[Decision Tree]: Accuratezza Fase di Test:  1.0\n"
          ],
          "name": "stdout"
        }
      ]
    },
    {
      "cell_type": "markdown",
      "metadata": {
        "id": "xJi2rAt1r4GO",
        "colab_type": "text"
      },
      "source": [
        "# Rete neurale"
      ]
    },
    {
      "cell_type": "markdown",
      "metadata": {
        "id": "QTA9nOnP1bve",
        "colab_type": "text"
      },
      "source": [
        "## Preparazione del modello"
      ]
    },
    {
      "cell_type": "code",
      "metadata": {
        "id": "9StiLPIs1fq6",
        "colab_type": "code",
        "colab": {}
      },
      "source": [
        "model = tf.keras.Sequential([\n",
        "    tf.keras.layers.Dense(128, activation='relu'),\n",
        "    tf.keras.layers.Dense(128, activation='relu'),\n",
        "    tf.keras.layers.Dense(1)\n",
        "])\n",
        "\n",
        "model.compile(\n",
        "    loss=tf.keras.losses.BinaryCrossentropy(from_logits=True),\n",
        "    optimizer='adam',\n",
        "    metrics=['accuracy'])\n"
      ],
      "execution_count": 0,
      "outputs": []
    },
    {
      "cell_type": "markdown",
      "metadata": {
        "id": "0GDBWAKRr0IX",
        "colab_type": "text"
      },
      "source": [
        "## Preparazione dei dataframe di Addestramento, Test e Valutazione"
      ]
    },
    {
      "cell_type": "code",
      "metadata": {
        "id": "CcPfP5txsAwd",
        "colab_type": "code",
        "outputId": "ec7b497a-71d8-441f-d33a-90dd1f717acb",
        "colab": {
          "base_uri": "https://localhost:8080/",
          "height": 68
        }
      },
      "source": [
        "train, test = train_test_split(dataframe, test_size=0.2)\n",
        "train, val = train_test_split(train, test_size=0.1)\n",
        "print(len(train), 'train examples')\n",
        "print(len(test), 'test examples')\n",
        "print(len(val), 'val example')"
      ],
      "execution_count": 8,
      "outputs": [
        {
          "output_type": "stream",
          "text": [
            "5849 train examples\n",
            "1625 test examples\n",
            "650 val example\n"
          ],
          "name": "stdout"
        }
      ]
    },
    {
      "cell_type": "markdown",
      "metadata": {
        "id": "-5h5no5GgPQF",
        "colab_type": "text"
      },
      "source": [
        "## Addestramento"
      ]
    },
    {
      "cell_type": "code",
      "metadata": {
        "id": "28VIyvuCgSkt",
        "colab_type": "code",
        "colab": {}
      },
      "source": [
        "# Creazione del dataset tensorflow di training\n",
        "train_target = train.pop(target_label)\n",
        "train_dataset = (tf.data.Dataset.from_tensor_slices((train.values, train_target.values))).shuffle(len(train)).batch(1)\n",
        "\n",
        "# Fase di Training\n",
        "history = model.fit(train_dataset, epochs=30, use_multiprocessing=True)"
      ],
      "execution_count": 0,
      "outputs": []
    },
    {
      "cell_type": "code",
      "metadata": {
        "id": "VMeGEaLQz2YN",
        "colab_type": "code",
        "outputId": "f2aa300f-3529-4e24-9e47-4a3b87ecf02a",
        "colab": {
          "base_uri": "https://localhost:8080/",
          "height": 297
        }
      },
      "source": [
        "  plt.title('Training evolution')\n",
        "  plt.xlabel('Epoch')\n",
        "\n",
        "  color = 'tab:blue'\n",
        "  plt.plot(history.history['accuracy'], color=color)\n",
        "  plt.ylabel('Accuracy', color=color)\n",
        "\n",
        "  plt.twinx()\n",
        "\n",
        "  color = 'tab:orange'\n",
        "  plt.plot(history.history['loss'], color=color)\n",
        "  plt.ylabel('Loss', color=color)\n",
        "\n",
        "  plt.tight_layout()\n",
        "  plt.show()"
      ],
      "execution_count": 10,
      "outputs": [
        {
          "output_type": "display_data",
          "data": {
            "image/png": "[encoded data removed]",
            "text/plain": [
              "<Figure size 432x288 with 2 Axes>"
            ]
          },
          "metadata": {
            "tags": [],
            "needs_background": "light"
          }
        }
      ]
    },
    {
      "cell_type": "markdown",
      "metadata": {
        "id": "LllTZ9UPMCR4",
        "colab_type": "text"
      },
      "source": [
        "## Test"
      ]
    },
    {
      "cell_type": "code",
      "metadata": {
        "id": "F_-tgmDnMDy_",
        "colab_type": "code",
        "outputId": "9aa2809a-1d6d-44d9-bef8-82bc72f04a2d",
        "colab": {
          "base_uri": "https://localhost:8080/",
          "height": 85
        }
      },
      "source": [
        "# Creazione del dataset di test \n",
        "test_target = test.pop(target_label)\n",
        "test_dataset = (tf.data.Dataset.from_tensor_slices((test.values, test_target.values))).shuffle(len(test)).batch(1)\n",
        "\n",
        "# Fase di test\n",
        "test_loss, test_accuracy = model.evaluate(test_dataset)\n",
        "print('\\n\\nTest Loss {}, Test Accuracy {}'.format(test_loss, test_accuracy))"
      ],
      "execution_count": 11,
      "outputs": [
        {
          "output_type": "stream",
          "text": [
            "1625/1625 [==============================] - 2s 1ms/step - loss: 1.1465e-05 - accuracy: 1.0000\n",
            "\n",
            "\n",
            "Test Loss 1.146490376413567e-05, Test Accuracy 1.0\n"
          ],
          "name": "stdout"
        }
      ]
    },
    {
      "cell_type": "markdown",
      "metadata": {
        "id": "vDYuXZirgUuh",
        "colab_type": "text"
      },
      "source": [
        "## Valutazione"
      ]
    },
    {
      "cell_type": "code",
      "metadata": {
        "id": "bwisZ92DgXlK",
        "colab_type": "code",
        "outputId": "0be11a8f-be66-43fa-d7f4-5dfa8a2212bd",
        "colab": {
          "base_uri": "https://localhost:8080/",
          "height": 187
        }
      },
      "source": [
        "# Creazione del dataset di valutazione\n",
        "val_target = val.pop(target_label)\n",
        "val_dataset = (tf.data.Dataset.from_tensor_slices(val.values)).batch(1)\n",
        "\n",
        "# Fase di valutazione\n",
        "predictions = model.predict(val_dataset)\n",
        "\n",
        "# TODO grafico dei risultati attesi/ottenuti\n",
        "# Presentazione dei risultati di valutazione\n",
        "for prediction, poisonous in zip(predictions[:10], list(val_target)[:10]):\n",
        "  prediction = tf.sigmoid(prediction).numpy()\n",
        "  print(\"Predicted poisonous: {:.2%}\".format(prediction[0]),\n",
        "        \" | Actual outcome: \",\n",
        "        (\"Poisonous\" if bool(poisonous) else \"Safe\"))\n"
      ],
      "execution_count": 12,
      "outputs": [
        {
          "output_type": "stream",
          "text": [
            "Predicted poisonous: 0.00%  | Actual outcome:  Safe\n",
            "Predicted poisonous: 100.00%  | Actual outcome:  Poisonous\n",
            "Predicted poisonous: 0.00%  | Actual outcome:  Safe\n",
            "Predicted poisonous: 100.00%  | Actual outcome:  Poisonous\n",
            "Predicted poisonous: 100.00%  | Actual outcome:  Poisonous\n",
            "Predicted poisonous: 100.00%  | Actual outcome:  Poisonous\n",
            "Predicted poisonous: 100.00%  | Actual outcome:  Poisonous\n",
            "Predicted poisonous: 0.00%  | Actual outcome:  Safe\n",
            "Predicted poisonous: 0.00%  | Actual outcome:  Safe\n",
            "Predicted poisonous: 0.00%  | Actual outcome:  Safe\n"
          ],
          "name": "stdout"
        }
      ]
    }
  ]
}
